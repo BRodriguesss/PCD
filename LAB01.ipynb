{
 "cells": [
  {
   "cell_type": "code",
   "execution_count": 1,
   "metadata": {},
   "outputs": [
    {
     "data": {
      "text/plain": [
       "int"
      ]
     },
     "execution_count": 1,
     "metadata": {},
     "output_type": "execute_result"
    }
   ],
   "source": [
    "#1) Verify if a value is an integer\n",
    "a = 5\n",
    "type (a)"
   ]
  },
  {
   "cell_type": "code",
   "execution_count": 2,
   "metadata": {},
   "outputs": [
    {
     "data": {
      "text/plain": [
       "False"
      ]
     },
     "execution_count": 2,
     "metadata": {},
     "output_type": "execute_result"
    }
   ],
   "source": [
    "#2) Verify if a value is even\n",
    "a = 5\n",
    "a % 2 == 0"
   ]
  },
  {
   "cell_type": "code",
   "execution_count": 1,
   "metadata": {},
   "outputs": [
    {
     "name": "stdout",
     "output_type": "stream",
     "text": [
      "Primeiro numero: 7\n",
      "Segundo numero: 5\n"
     ]
    }
   ],
   "source": [
    "#3) Insert two numbers. Its the first bigger than the second?\n",
    "num1 = int(input(\"Primeiro numero: \"))\n",
    "num2 = int(input(\"Segundo numero: \"))"
   ]
  },
  {
   "cell_type": "code",
   "execution_count": 2,
   "metadata": {},
   "outputs": [
    {
     "data": {
      "text/plain": [
       "True"
      ]
     },
     "execution_count": 2,
     "metadata": {},
     "output_type": "execute_result"
    }
   ],
   "source": [
    "num1 > num2"
   ]
  },
  {
   "cell_type": "code",
   "execution_count": 3,
   "metadata": {},
   "outputs": [
    {
     "data": {
      "text/plain": [
       "False"
      ]
     },
     "execution_count": 3,
     "metadata": {},
     "output_type": "execute_result"
    }
   ],
   "source": [
    "#4) Verify if one value is multiple from another\n",
    "\n",
    "num1 = 4\n",
    "num2 = 5\n",
    "\n",
    "num1 % num2 == 0 or num2 % num1 == 0"
   ]
  },
  {
   "cell_type": "code",
   "execution_count": 5,
   "metadata": {},
   "outputs": [
    {
     "name": "stdout",
     "output_type": "stream",
     "text": [
      "18.0\n"
     ]
    }
   ],
   "source": [
    "#5) Calculate the interest earn by an investor thar invested an amount of capital of 200 during three years with an interest rate of 3%.\n",
    "#(I=P*R*T)\n",
    "\n",
    "P = 200\n",
    "R = 0.03\n",
    "T = 3\n",
    "\n",
    "I= P*R*T\n",
    "print(I)"
   ]
  },
  {
   "cell_type": "code",
   "execution_count": 1,
   "metadata": {},
   "outputs": [
    {
     "name": "stdout",
     "output_type": "stream",
     "text": [
      "218.5454\n"
     ]
    }
   ],
   "source": [
    "#6) Calculate that an investor obtained after investing an amount of capital  of 200 during three years with an interest rate of 3%. (Compound interest)\n",
    "#(CapitalAcum=Capital*(1+rate)**time\n",
    "\n",
    "Capital = 200\n",
    "Rate = 0.03\n",
    "Time = 3\n",
    "\n",
    "CapitalAcum = (Capital * (1 + Rate) ** Time)\n",
    "print(CapitalAcum)"
   ]
  },
  {
   "cell_type": "code",
   "execution_count": 3,
   "metadata": {},
   "outputs": [
    {
     "name": "stdout",
     "output_type": "stream",
     "text": [
      "24.622960911049557\n"
     ]
    }
   ],
   "source": [
    "#7) Calculate your BMI (Body Mass Index)\n",
    "# BMI=Mass/Height^2\n",
    "\n",
    "Mass = 72\n",
    "Height = 1.71\n",
    "\n",
    "BMI = Mass / Height**2\n",
    "print(BMI)"
   ]
  },
  {
   "cell_type": "code",
   "execution_count": 4,
   "metadata": {},
   "outputs": [
    {
     "name": "stdout",
     "output_type": "stream",
     "text": [
      "1.618033988749895\n"
     ]
    }
   ],
   "source": [
    "#8) Calculate the Golden Ratio\n",
    "# GR= (1+ sq(5))/2\n",
    "\n",
    "#alternativa: GR = (1+5**0.5)/2\n",
    "\n",
    "import math \n",
    "GR = (1 + math.sqrt (5))/2\n",
    "print(GR)"
   ]
  },
  {
   "cell_type": "code",
   "execution_count": 7,
   "metadata": {},
   "outputs": [
    {
     "name": "stdout",
     "output_type": "stream",
     "text": [
      "3139.440301519393\n"
     ]
    }
   ],
   "source": [
    "#9) Calculate the NPV (Net Present Value) of an investment, considering an initial investment of 10000, the following Cashflows 2000, 3000, 4000, 4000, 5000 and a discount rate of 10%.\n",
    "\n",
    "I = 10000\n",
    "CF1 = 2000\n",
    "CF2 = 3000\n",
    "CF3 = 4000\n",
    "CF4 = 4000\n",
    "CF5 = 5000\n",
    "Rate = 0.10\n",
    "\n",
    "NPV = ((CF1/(1+Rate)) + (CF2/(1+Rate)**2) + (CF3/(1+Rate)**3) + (CF4/(1+Rate)**4) + (CF5/(1+Rate)**5)) - I\n",
    "print (NPV)"
   ]
  },
  {
   "cell_type": "code",
   "execution_count": null,
   "metadata": {},
   "outputs": [],
   "source": [
    "#10) Ask the user to insert name and age. Calculate the birth year. Print a result saying the 'this person was born in.'\n",
    "#1. Solve the problem without using modules and libraries\n",
    "#2. Solve the problem using the date library from module datetime, as fallow: from datetime import date today = date.today() today.year\n",
    "\n",
    "age = \"25\"\n",
    "name = \"Bernardo\"\n",
    "#dataNascimento = \n",
    "\n",
    "from datetime import date\n",
    "a = input (\"Qual o seu nome e a sua idade: \")\n",
    "print (a)\n",
    "today = date.today ()\n",
    "today.year - int (a)"
   ]
  },
  {
   "cell_type": "code",
   "execution_count": null,
   "metadata": {},
   "outputs": [],
   "source": []
  }
 ],
 "metadata": {
  "kernelspec": {
   "display_name": "Python 3",
   "language": "python",
   "name": "python3"
  },
  "language_info": {
   "codemirror_mode": {
    "name": "ipython",
    "version": 3
   },
   "file_extension": ".py",
   "mimetype": "text/x-python",
   "name": "python",
   "nbconvert_exporter": "python",
   "pygments_lexer": "ipython3",
   "version": "3.7.1"
  }
 },
 "nbformat": 4,
 "nbformat_minor": 2
}
