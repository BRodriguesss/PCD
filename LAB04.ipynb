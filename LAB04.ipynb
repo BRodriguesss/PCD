{
 "cells": [
  {
   "cell_type": "code",
   "execution_count": null,
   "metadata": {},
   "outputs": [],
   "source": [
    "#1) Ask the user to insert this name and age. Then calculate his birth year.\n",
    "\n",
    "name=input(\"Whats your name? \")\n",
    "age=input(\"Whats your age? \")\n",
    "\n",
    "from datetime import date\n",
    "today = date.today()\n",
    "today.year"
   ]
  },
  {
   "cell_type": "code",
   "execution_count": null,
   "metadata": {},
   "outputs": [],
   "source": [
    "age = 25\n",
    "birthyear = today.year - age\n",
    "print (birthyear)"
   ]
  },
  {
   "cell_type": "code",
   "execution_count": null,
   "metadata": {},
   "outputs": [],
   "source": [
    "#2) Ask the user to insert a text. The program will always answer \"yes\". The conversation will be closed when the user says \"bye\",\n",
    "\n",
    "text= ''\n",
    "text=input(\"Insert text: \")\n",
    "while text!= 'bye':\n",
    "    print(\"yes\")\n",
    "    text=input(\"Insert text: \")"
   ]
  },
  {
   "cell_type": "code",
   "execution_count": null,
   "metadata": {},
   "outputs": [],
   "source": [
    "#3) Create a function for a greeting.\n",
    "\n",
    "def greet():\n",
    "    print(\"Hello!\")"
   ]
  },
  {
   "cell_type": "code",
   "execution_count": null,
   "metadata": {},
   "outputs": [],
   "source": [
    "#4) Call greeting function at the beginning of the conversation.\n",
    "\n",
    "greet()\n",
    "text =\"\"\n",
    "text = input(\"Insert text: \")\n",
    "while text != \"bye\" :\n",
    "    print(\"yes\")\n",
    "    text = input(\"Insert text: \")"
   ]
  },
  {
   "cell_type": "code",
   "execution_count": null,
   "metadata": {},
   "outputs": [],
   "source": [
    "#5) Improve your chatbot\n",
    "\n",
    "def greetUser(name):\n",
    "    \"\" \"Show a custom message.\" \"\"\n",
    "    print(\"Hello,\" + name + \"!\")"
   ]
  },
  {
   "cell_type": "code",
   "execution_count": null,
   "metadata": {},
   "outputs": [],
   "source": [
    "greetUser(name)"
   ]
  }
 ],
 "metadata": {
  "kernelspec": {
   "display_name": "Python 3",
   "language": "python",
   "name": "python3"
  },
  "language_info": {
   "codemirror_mode": {
    "name": "ipython",
    "version": 3
   },
   "file_extension": ".py",
   "mimetype": "text/x-python",
   "name": "python",
   "nbconvert_exporter": "python",
   "pygments_lexer": "ipython3",
   "version": "3.8.3"
  }
 },
 "nbformat": 4,
 "nbformat_minor": 4
}
