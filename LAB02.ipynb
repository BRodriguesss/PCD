{
 "cells": [
  {
   "cell_type": "code",
   "execution_count": 1,
   "metadata": {},
   "outputs": [
    {
     "name": "stdout",
     "output_type": "stream",
     "text": [
      "['patatoes', 'carrots', 'cod', 'sprouts']\n"
     ]
    }
   ],
   "source": [
    "#1) Construct a list (shoppingList) including \"patatoes\"; \"carrots\"; \"cod\"; \"sprouts\"\n",
    "shoppingList = [\"patatoes\", \"carrots\", \"cod\", \"sprouts\"]\n",
    "print(shoppingList)"
   ]
  },
  {
   "cell_type": "code",
   "execution_count": 2,
   "metadata": {},
   "outputs": [
    {
     "data": {
      "text/plain": [
       "'carrots'"
      ]
     },
     "execution_count": 2,
     "metadata": {},
     "output_type": "execute_result"
    }
   ],
   "source": [
    "#2) Get the second and the last element of the list\n",
    "shoppingList [1]"
   ]
  },
  {
   "cell_type": "code",
   "execution_count": 3,
   "metadata": {},
   "outputs": [
    {
     "data": {
      "text/plain": [
       "'sprouts'"
      ]
     },
     "execution_count": 3,
     "metadata": {},
     "output_type": "execute_result"
    }
   ],
   "source": [
    "shoppingList [-1]"
   ]
  },
  {
   "cell_type": "code",
   "execution_count": 4,
   "metadata": {},
   "outputs": [
    {
     "name": "stdout",
     "output_type": "stream",
     "text": [
      "patatoes\n",
      "carrots\n",
      "cod\n",
      "sprouts\n"
     ]
    }
   ],
   "source": [
    "#3) Iterate thought the list\n",
    "for purchase in shoppingList:\n",
    "    print (purchase)"
   ]
  },
  {
   "cell_type": "code",
   "execution_count": 5,
   "metadata": {},
   "outputs": [
    {
     "name": "stdout",
     "output_type": "stream",
     "text": [
      "['StudentList']\n"
     ]
    }
   ],
   "source": [
    "#4) Create a new list (studentList)\n",
    "\n",
    "studentList = [\"StudentList\"]\n",
    "print (studentList)"
   ]
  },
  {
   "cell_type": "code",
   "execution_count": 6,
   "metadata": {},
   "outputs": [
    {
     "name": "stdout",
     "output_type": "stream",
     "text": [
      "['patatoes', 'carrots', 'cod', 'sprouts', 'orange', 'lime']\n"
     ]
    }
   ],
   "source": [
    "#5) Add the following elements to the shoppingList list: orange and lime\n",
    "\n",
    "shoppingList = [\"patatoes\", \"carrots\", \"cod\", \"sprouts\"]\n",
    "shoppingList.append (\"orange\")\n",
    "shoppingList.append (\"lime\")\n",
    "print (shoppingList)"
   ]
  },
  {
   "cell_type": "code",
   "execution_count": 7,
   "metadata": {},
   "outputs": [
    {
     "name": "stdout",
     "output_type": "stream",
     "text": [
      "['cod', 'sprouts', 'orange']\n"
     ]
    }
   ],
   "source": [
    "#6) Remove the carrots, the first element and the last element of the shoppingList list\n",
    "shoppingList = ['patatoes', 'carrots', 'cod', 'sprouts', 'orange', 'lime']\n",
    "shoppingList.remove (\"carrots\")\n",
    "del shoppingList [0]\n",
    "del shoppingList [-1]\n",
    "print (shoppingList)"
   ]
  },
  {
   "cell_type": "code",
   "execution_count": 8,
   "metadata": {},
   "outputs": [],
   "source": [
    "#7) Delete the shoppingList\n",
    "del shoppingList"
   ]
  },
  {
   "cell_type": "code",
   "execution_count": 9,
   "metadata": {},
   "outputs": [
    {
     "name": "stdout",
     "output_type": "stream",
     "text": [
      "[1, 4, 9, 16, 25, 36, 49, 64, 81, 100, 121, 144, 169, 196, 225]\n"
     ]
    }
   ],
   "source": [
    "#8) Create a list with the double values of all integer numbers between 1 and 15\n",
    "\n",
    "doubleinteger = [1, 2, 3, 4, 5, 6, 7, 8, 9, 10, 11, 12, 13, 14, 15]\n",
    "doubleinteger = [x**2 for x in range (1,16)]\n",
    "print (doubleinteger)"
   ]
  },
  {
   "cell_type": "code",
   "execution_count": 10,
   "metadata": {},
   "outputs": [
    {
     "name": "stdout",
     "output_type": "stream",
     "text": [
      "[1, 4, 9]\n"
     ]
    }
   ],
   "source": [
    "#9) Obtain the first 3 elements of the list\n",
    "doubleinteger = [1, 4, 9, 16, 25, 36, 49, 64, 81, 100, 121, 144, 169, 196, 225]\n",
    "firstThree = doubleinteger [:3]\n",
    "print (firstThree)"
   ]
  },
  {
   "cell_type": "code",
   "execution_count": 11,
   "metadata": {},
   "outputs": [],
   "source": [
    "#10) What is the result of, Why?\n",
    "# shopping = shoppingList\n",
    "# shoppingListCopy = shoppingList [:]\n",
    "# print(shopping)\n",
    "\n",
    "#O código cria uma cópia da lista original (shoppingList) e é criado um apontador para a lista original."
   ]
  },
  {
   "cell_type": "code",
   "execution_count": 12,
   "metadata": {},
   "outputs": [],
   "source": [
    "#12) What is the result of, Why?\n",
    "# shopping = shoppingList\n",
    "# shoppingList.append(\"orange\") \n",
    "# print(shopping)\n",
    "\n",
    "#O código adiciona o elemento \"orange\" à lista \"shoppingList\", no entanto, a lista \"Shopping\" também é afetada."
   ]
  },
  {
   "cell_type": "code",
   "execution_count": 13,
   "metadata": {},
   "outputs": [
    {
     "name": "stdout",
     "output_type": "stream",
     "text": [
      "['patatoes', 'carrots', 'cod', 'sprouts', 'orange', 'lime']\n"
     ]
    }
   ],
   "source": [
    "#13) Remove all the items from the shoppingList\n",
    "\n",
    "shoppingList = ['patatoes', 'carrots', 'cod', 'sprouts', 'orange', 'lime']\n",
    "print (shoppingList)"
   ]
  },
  {
   "cell_type": "code",
   "execution_count": 14,
   "metadata": {},
   "outputs": [
    {
     "name": "stdout",
     "output_type": "stream",
     "text": [
      "[]\n"
     ]
    }
   ],
   "source": [
    "shoppingList.clear()\n",
    "print (shoppingList)"
   ]
  },
  {
   "cell_type": "code",
   "execution_count": 15,
   "metadata": {},
   "outputs": [],
   "source": [
    "#14) What is the result of, Why?\n",
    "# newPurchases = (\"bananas\", \"beans\", \"rice\")\n",
    "# print (\"newPurchase [1]\") \n",
    "# newPurchase [0] = \"apple\n",
    "\n",
    "#O código dá erro por se tratar de um \"tuple\"."
   ]
  },
  {
   "cell_type": "code",
   "execution_count": 16,
   "metadata": {},
   "outputs": [
    {
     "ename": "IndentationError",
     "evalue": "unexpected indent (<ipython-input-16-14f1fcf8128c>, line 4)",
     "output_type": "error",
     "traceback": [
      "\u001b[0;36m  File \u001b[0;32m\"<ipython-input-16-14f1fcf8128c>\"\u001b[0;36m, line \u001b[0;32m4\u001b[0m\n\u001b[0;31m    for key , value in fruit.items():\u001b[0m\n\u001b[0m    ^\u001b[0m\n\u001b[0;31mIndentationError\u001b[0m\u001b[0;31m:\u001b[0m unexpected indent\n"
     ]
    }
   ],
   "source": [
    "#15) Create a dictionary including the following elements: orange, apple, pear, grape and peach. Key are 1 to 5. Iterate through key-value pair.\n",
    "\n",
    "fruit = {1: \"orange\", 2: \"apple\", 3: \"pear\", 4: \"grape\", 5: \"peach\"}\n",
    "    for key , value in fruit.items():\n",
    "        print (\"The fruit\")"
   ]
  },
  {
   "cell_type": "code",
   "execution_count": 17,
   "metadata": {},
   "outputs": [
    {
     "name": "stdout",
     "output_type": "stream",
     "text": [
      "[[1, 2, 3], [4, 5, 6], [7, 8, 9]]\n"
     ]
    }
   ],
   "source": [
    "#16) Create a weekList that is composed of several lists, each one corresponding to a day.\n",
    "\n",
    "weekList1 = [1, 2, 3]\n",
    "weekList2 = [4, 5, 6]\n",
    "weekList3 = [7, 8, 9]\n",
    "\n",
    "weekList = [weekList1, weekList2, weekList3]\n",
    "print (weekList)"
   ]
  }
 ],
 "metadata": {
  "kernelspec": {
   "display_name": "Python 3",
   "language": "python",
   "name": "python3"
  },
  "language_info": {
   "codemirror_mode": {
    "name": "ipython",
    "version": 3
   },
   "file_extension": ".py",
   "mimetype": "text/x-python",
   "name": "python",
   "nbconvert_exporter": "python",
   "pygments_lexer": "ipython3",
   "version": "3.7.1"
  }
 },
 "nbformat": 4,
 "nbformat_minor": 4
}
